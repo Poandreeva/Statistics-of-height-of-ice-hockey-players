{
 "cells": [
  {
   "cell_type": "markdown",
   "id": "9a0360b7",
   "metadata": {},
   "source": [
    "# Используя данные о хоккеистах, проверьте, является ли среди хоккеистов из Финляндии, Норвегии и Дании значимым отличие роста. В качестве ответа запишите 1, если является, и 0 иначе."
   ]
  },
  {
   "cell_type": "markdown",
   "id": "5d3b7686",
   "metadata": {},
   "source": [
    "(после решения будет представлен)\n",
    "### Ответ: 0"
   ]
  },
  {
   "cell_type": "code",
   "execution_count": 1,
   "id": "2a2176fd",
   "metadata": {
    "id": "-UQ9luH2i6V2"
   },
   "outputs": [],
   "source": [
    "import pandas as pd\n",
    "import numpy as np"
   ]
  },
  {
   "cell_type": "code",
   "execution_count": 2,
   "id": "9502124e",
   "metadata": {
    "colab": {
     "base_uri": "https://localhost:8080/",
     "height": 307
    },
    "id": "bmsGD4E6i6WB",
    "outputId": "ddae9901-8bee-4551-d301-7ad2aafa55e8"
   },
   "outputs": [],
   "source": [
    "df = pd.read_csv('hockey_players.csv', encoding='cp1251', parse_dates=['birth'])"
   ]
  },
  {
   "cell_type": "markdown",
   "id": "ef04297c",
   "metadata": {
    "id": "swgqE8N4i6WI"
   },
   "source": [
    "Просмотрим первые строки датасета:"
   ]
  },
  {
   "cell_type": "code",
   "execution_count": 3,
   "id": "fd99107e",
   "metadata": {
    "colab": {
     "base_uri": "https://localhost:8080/",
     "height": 163
    },
    "id": "nUXZvcjgi6WK",
    "outputId": "780c8ff4-038c-424b-b2aa-aae01fe6b11f",
    "scrolled": false
   },
   "outputs": [
    {
     "data": {
      "text/html": [
       "<div>\n",
       "<style scoped>\n",
       "    .dataframe tbody tr th:only-of-type {\n",
       "        vertical-align: middle;\n",
       "    }\n",
       "\n",
       "    .dataframe tbody tr th {\n",
       "        vertical-align: top;\n",
       "    }\n",
       "\n",
       "    .dataframe thead th {\n",
       "        text-align: right;\n",
       "    }\n",
       "</style>\n",
       "<table border=\"1\" class=\"dataframe\">\n",
       "  <thead>\n",
       "    <tr style=\"text-align: right;\">\n",
       "      <th></th>\n",
       "      <th>year</th>\n",
       "      <th>country</th>\n",
       "      <th>no</th>\n",
       "      <th>name</th>\n",
       "      <th>position</th>\n",
       "      <th>side</th>\n",
       "      <th>height</th>\n",
       "      <th>weight</th>\n",
       "      <th>birth</th>\n",
       "      <th>club</th>\n",
       "      <th>age</th>\n",
       "      <th>cohort</th>\n",
       "      <th>bmi</th>\n",
       "    </tr>\n",
       "  </thead>\n",
       "  <tbody>\n",
       "    <tr>\n",
       "      <th>0</th>\n",
       "      <td>2001</td>\n",
       "      <td>RUS</td>\n",
       "      <td>10</td>\n",
       "      <td>tverdovsky oleg</td>\n",
       "      <td>D</td>\n",
       "      <td>L</td>\n",
       "      <td>185</td>\n",
       "      <td>84.0</td>\n",
       "      <td>1976-05-18</td>\n",
       "      <td>anaheim mighty ducks</td>\n",
       "      <td>24.952772</td>\n",
       "      <td>1976</td>\n",
       "      <td>24.543462</td>\n",
       "    </tr>\n",
       "    <tr>\n",
       "      <th>1</th>\n",
       "      <td>2001</td>\n",
       "      <td>RUS</td>\n",
       "      <td>2</td>\n",
       "      <td>vichnevsky vitali</td>\n",
       "      <td>D</td>\n",
       "      <td>L</td>\n",
       "      <td>188</td>\n",
       "      <td>86.0</td>\n",
       "      <td>1980-03-18</td>\n",
       "      <td>anaheim mighty ducks</td>\n",
       "      <td>21.119781</td>\n",
       "      <td>1980</td>\n",
       "      <td>24.332277</td>\n",
       "    </tr>\n",
       "    <tr>\n",
       "      <th>2</th>\n",
       "      <td>2001</td>\n",
       "      <td>RUS</td>\n",
       "      <td>26</td>\n",
       "      <td>petrochinin evgeni</td>\n",
       "      <td>D</td>\n",
       "      <td>L</td>\n",
       "      <td>182</td>\n",
       "      <td>95.0</td>\n",
       "      <td>1976-02-07</td>\n",
       "      <td>severstal cherepovetal</td>\n",
       "      <td>25.229295</td>\n",
       "      <td>1976</td>\n",
       "      <td>28.680111</td>\n",
       "    </tr>\n",
       "    <tr>\n",
       "      <th>3</th>\n",
       "      <td>2001</td>\n",
       "      <td>RUS</td>\n",
       "      <td>28</td>\n",
       "      <td>zhdan alexander</td>\n",
       "      <td>D</td>\n",
       "      <td>R</td>\n",
       "      <td>178</td>\n",
       "      <td>85.0</td>\n",
       "      <td>1971-08-28</td>\n",
       "      <td>ak bars kazan</td>\n",
       "      <td>29.675565</td>\n",
       "      <td>1971</td>\n",
       "      <td>26.827421</td>\n",
       "    </tr>\n",
       "    <tr>\n",
       "      <th>4</th>\n",
       "      <td>2001</td>\n",
       "      <td>RUS</td>\n",
       "      <td>32</td>\n",
       "      <td>orekhovsky oleg</td>\n",
       "      <td>D</td>\n",
       "      <td>R</td>\n",
       "      <td>175</td>\n",
       "      <td>88.0</td>\n",
       "      <td>1977-11-03</td>\n",
       "      <td>dynamo moscow</td>\n",
       "      <td>23.490760</td>\n",
       "      <td>1977</td>\n",
       "      <td>28.734694</td>\n",
       "    </tr>\n",
       "  </tbody>\n",
       "</table>\n",
       "</div>"
      ],
      "text/plain": [
       "   year country  no                 name position side  height  weight  \\\n",
       "0  2001     RUS  10     tverdovsky oleg         D    L     185    84.0   \n",
       "1  2001     RUS   2   vichnevsky vitali         D    L     188    86.0   \n",
       "2  2001     RUS  26  petrochinin evgeni         D    L     182    95.0   \n",
       "3  2001     RUS  28     zhdan alexander         D    R     178    85.0   \n",
       "4  2001     RUS  32     orekhovsky oleg         D    R     175    88.0   \n",
       "\n",
       "       birth                     club        age  cohort        bmi  \n",
       "0 1976-05-18    anaheim mighty ducks   24.952772    1976  24.543462  \n",
       "1 1980-03-18    anaheim mighty ducks   21.119781    1980  24.332277  \n",
       "2 1976-02-07  severstal cherepovetal   25.229295    1976  28.680111  \n",
       "3 1971-08-28           ak bars kazan   29.675565    1971  26.827421  \n",
       "4 1977-11-03           dynamo moscow   23.490760    1977  28.734694  "
      ]
     },
     "execution_count": 3,
     "metadata": {},
     "output_type": "execute_result"
    }
   ],
   "source": [
    "df.head()"
   ]
  },
  {
   "cell_type": "markdown",
   "id": "c23cca67",
   "metadata": {
    "id": "QEJZ5LTSi6WW"
   },
   "source": [
    "Посмотрим количество строк, полей и информацию о полях в датасете:"
   ]
  },
  {
   "cell_type": "code",
   "execution_count": 4,
   "id": "f3f40eab",
   "metadata": {
    "colab": {
     "base_uri": "https://localhost:8080/",
     "height": 232
    },
    "id": "wjgoaSKxi6WY",
    "outputId": "58e4ad38-972d-46d2-e233-300185ff2094"
   },
   "outputs": [
    {
     "data": {
      "text/plain": [
       "(6292, 13)"
      ]
     },
     "execution_count": 4,
     "metadata": {},
     "output_type": "execute_result"
    }
   ],
   "source": [
    "df.shape"
   ]
  },
  {
   "cell_type": "code",
   "execution_count": 5,
   "id": "218f007c",
   "metadata": {
    "id": "LmZrkjUoi6Wj"
   },
   "outputs": [
    {
     "data": {
      "text/plain": [
       "Index(['year', 'country', 'no', 'name', 'position', 'side', 'height', 'weight',\n",
       "       'birth', 'club', 'age', 'cohort', 'bmi'],\n",
       "      dtype='object')"
      ]
     },
     "execution_count": 5,
     "metadata": {},
     "output_type": "execute_result"
    }
   ],
   "source": [
    "df.columns"
   ]
  },
  {
   "cell_type": "markdown",
   "id": "785e0566",
   "metadata": {
    "id": "VRPQmemUi6Wz"
   },
   "source": [
    "Удалим дубликаты:"
   ]
  },
  {
   "cell_type": "code",
   "execution_count": 6,
   "id": "4b413de6",
   "metadata": {
    "id": "Y2uJztvvi6W0"
   },
   "outputs": [],
   "source": [
    "df = df.drop_duplicates(['name', 'birth'])"
   ]
  },
  {
   "cell_type": "code",
   "execution_count": 7,
   "id": "037f4cf2",
   "metadata": {
    "id": "pK0C_2tRi6XB",
    "scrolled": true
   },
   "outputs": [
    {
     "data": {
      "text/plain": [
       "(3294, 13)"
      ]
     },
     "execution_count": 7,
     "metadata": {},
     "output_type": "execute_result"
    }
   ],
   "source": [
    "df.shape"
   ]
  },
  {
   "cell_type": "code",
   "execution_count": 8,
   "id": "466dade8",
   "metadata": {
    "id": "OAiu_WjGi6Wq"
   },
   "outputs": [
    {
     "data": {
      "text/plain": [
       "array(['RUS', 'AUT', 'BLR', 'CAN', 'CZE', 'FIN', 'GER', 'ITA', 'JPN',\n",
       "       'LAT', 'NOR', 'SUI', 'SVK', 'SWE', 'UKR', 'USA', 'POL', 'SLO',\n",
       "       'DEN', 'FRA', 'KAZ', 'HUN'], dtype=object)"
      ]
     },
     "execution_count": 8,
     "metadata": {},
     "output_type": "execute_result"
    }
   ],
   "source": [
    "df['country'].unique()"
   ]
  },
  {
   "cell_type": "markdown",
   "id": "47aba6c1",
   "metadata": {
    "id": "le-taotCi6XN"
   },
   "source": [
    "Построим распределение роста среди хоккеистов:"
   ]
  },
  {
   "cell_type": "code",
   "execution_count": 9,
   "id": "8415a802",
   "metadata": {
    "id": "O8xmDadti6XO"
   },
   "outputs": [],
   "source": [
    "import matplotlib.pyplot as plt"
   ]
  },
  {
   "cell_type": "code",
   "execution_count": 10,
   "id": "584eebe2",
   "metadata": {
    "colab": {
     "base_uri": "https://localhost:8080/",
     "height": 181
    },
    "id": "Xb7ozyBOi6XV",
    "outputId": "00cb238d-d6d3-4cb8-9c69-44b73cf7849e",
    "scrolled": false
   },
   "outputs": [
    {
     "data": {
      "image/png": "[encoded data removed]",
      "text/plain": [
       "<Figure size 640x480 with 1 Axes>"
      ]
     },
     "metadata": {},
     "output_type": "display_data"
    }
   ],
   "source": [
    "plt.hist(df['height'], bins=20)\n",
    "plt.show()"
   ]
  },
  {
   "cell_type": "markdown",
   "id": "f0a1ade1",
   "metadata": {},
   "source": [
    "Вывод: среди всех хоккеистов распределение роста близко к нормальному"
   ]
  },
  {
   "cell_type": "code",
   "execution_count": 11,
   "id": "e3190173",
   "metadata": {},
   "outputs": [],
   "source": [
    "fin = df[df['country'] == 'FIN']\n",
    "nor = df[df['country'] == 'NOR']\n",
    "den = df[df['country'] == 'DEN']"
   ]
  },
  {
   "cell_type": "code",
   "execution_count": 12,
   "id": "624626f9",
   "metadata": {},
   "outputs": [
    {
     "data": {
      "image/png": "[encoded data removed]",
      "text/plain": [
       "<Figure size 640x480 with 1 Axes>"
      ]
     },
     "metadata": {},
     "output_type": "display_data"
    }
   ],
   "source": [
    "plt.hist(fin['height'])\n",
    "plt.show()"
   ]
  },
  {
   "cell_type": "code",
   "execution_count": 13,
   "id": "2c87275a",
   "metadata": {},
   "outputs": [
    {
     "data": {
      "image/png": "[encoded data removed]",
      "text/plain": [
       "<Figure size 640x480 with 1 Axes>"
      ]
     },
     "metadata": {},
     "output_type": "display_data"
    }
   ],
   "source": [
    "plt.hist(nor['height'])\n",
    "plt.show()"
   ]
  },
  {
   "cell_type": "code",
   "execution_count": 14,
   "id": "df81546f",
   "metadata": {},
   "outputs": [
    {
     "data": {
      "image/png": "[encoded data removed]",
      "text/plain": [
       "<Figure size 640x480 with 1 Axes>"
      ]
     },
     "metadata": {},
     "output_type": "display_data"
    }
   ],
   "source": [
    "plt.hist(den['height'])\n",
    "plt.show()"
   ]
  },
  {
   "cell_type": "markdown",
   "id": "059db360",
   "metadata": {},
   "source": [
    "Вывод: во всех трех странах распределение роста близко к нормальному"
   ]
  },
  {
   "cell_type": "markdown",
   "id": "1a6665f6",
   "metadata": {
    "id": "FJjbiTsqYo7E"
   },
   "source": [
    "Всего три группы:"
   ]
  },
  {
   "cell_type": "code",
   "execution_count": 15,
   "id": "3e707f3e",
   "metadata": {
    "id": "sz67ojVvYo7F"
   },
   "outputs": [],
   "source": [
    "k = 3\n",
    "y1 = fin['height']\n",
    "y2 = nor['height']\n",
    "y3 = den['height']"
   ]
  },
  {
   "cell_type": "markdown",
   "id": "b213a48c",
   "metadata": {
    "collapsed": true,
    "id": "ckgMBMwlYo7r"
   },
   "source": [
    "Проведем однофакторный дисперсионный анализ. Сначала найдем средние зарплаты для каждой профессии:"
   ]
  },
  {
   "cell_type": "code",
   "execution_count": 16,
   "id": "bcb84757",
   "metadata": {
    "colab": {
     "base_uri": "https://localhost:8080/"
    },
    "id": "ZN6FRDI8Yo7s",
    "outputId": "b3b9dd44-2227-47bc-d519-399484efe027"
   },
   "outputs": [
    {
     "data": {
      "text/plain": [
       "(184.3233830845771, 201)"
      ]
     },
     "execution_count": 16,
     "metadata": {},
     "output_type": "execute_result"
    }
   ],
   "source": [
    "y1_mean = np.mean(y1)\n",
    "n1 = len(y1)\n",
    "y1_mean, n1"
   ]
  },
  {
   "cell_type": "code",
   "execution_count": 17,
   "id": "7e8e23f7",
   "metadata": {
    "colab": {
     "base_uri": "https://localhost:8080/"
    },
    "id": "8NIWa2kYYo73",
    "outputId": "51fed228-f003-4118-c9bb-3d379fcb9c2f"
   },
   "outputs": [
    {
     "data": {
      "text/plain": [
       "(182.72448979591837, 98)"
      ]
     },
     "execution_count": 17,
     "metadata": {},
     "output_type": "execute_result"
    }
   ],
   "source": [
    "y2_mean = np.mean(y2)\n",
    "n2 = len(y2)\n",
    "y2_mean, n2"
   ]
  },
  {
   "cell_type": "code",
   "execution_count": 18,
   "id": "6d2a9122",
   "metadata": {
    "colab": {
     "base_uri": "https://localhost:8080/"
    },
    "id": "w3iuWoo8Yo7_",
    "outputId": "0afc918a-9507-45b5-b769-1a15f8b6f9e3"
   },
   "outputs": [
    {
     "data": {
      "text/plain": [
       "(184.23880597014926, 134)"
      ]
     },
     "execution_count": 18,
     "metadata": {},
     "output_type": "execute_result"
    }
   ],
   "source": [
    "y3_mean = np.mean(y3)\n",
    "n3 = len(y3)\n",
    "y3_mean, n3"
   ]
  },
  {
   "cell_type": "code",
   "execution_count": 19,
   "id": "a9f6de27",
   "metadata": {},
   "outputs": [
    {
     "data": {
      "text/plain": [
       "433"
      ]
     },
     "execution_count": 19,
     "metadata": {},
     "output_type": "execute_result"
    }
   ],
   "source": [
    "n = n1 + n2 + n3\n",
    "n"
   ]
  },
  {
   "cell_type": "markdown",
   "id": "5765ddca",
   "metadata": {
    "id": "Vptu9qE8Yo8H"
   },
   "source": [
    "Видно, что средний рост не сильно разнится. Установим, является ли отличие статистически значимо. Для этого сначала соберем все значения роста в один массив:"
   ]
  },
  {
   "cell_type": "code",
   "execution_count": 20,
   "id": "a7d012e6",
   "metadata": {
    "colab": {
     "base_uri": "https://localhost:8080/"
    },
    "id": "XUIg7A9IYo8K",
    "outputId": "40cf8efe-8d54-47f4-b364-d8509fe011b3"
   },
   "outputs": [
    {
     "data": {
      "text/plain": [
       "array([184, 178, 178, 185, 192, 190, 191, 193, 183, 183, 184, 177, 177,\n",
       "       178, 178, 181, 185, 181, 178, 184, 187, 179, 185, 175, 189, 184,\n",
       "       186, 179, 185, 184, 188, 182, 181, 190, 187, 192, 189, 183, 182,\n",
       "       191, 184, 179, 180, 183, 190, 199, 183, 183, 188, 176, 188, 178,\n",
       "       186, 192, 185, 188, 178, 180, 192, 177, 183, 181, 178, 178, 181,\n",
       "       188, 184, 184, 184, 183, 182, 185, 188, 183, 188, 178, 178, 191,\n",
       "       185, 188, 184, 180, 189, 183, 185, 183, 178, 178, 185, 188, 177,\n",
       "       189, 184, 182, 183, 179, 185, 185, 183, 189, 193, 193, 180, 185,\n",
       "       185, 188, 190, 185, 185, 186, 184, 185, 183, 178, 182, 182, 182,\n",
       "       191, 189, 183, 186, 185, 178, 191, 179, 187, 180, 183, 187, 186,\n",
       "       186, 175, 181, 182, 180, 188, 178, 183, 186, 194, 178, 182, 175,\n",
       "       178, 185, 193, 184, 188, 189, 188, 180, 185, 185, 189, 191, 175,\n",
       "       196, 183, 190, 180, 173, 182, 185, 190, 181, 203, 181, 180, 179,\n",
       "       184, 192, 186, 182, 185, 182, 184, 188, 186, 186, 180, 174, 179,\n",
       "       184, 187, 180, 183, 185, 200, 179, 190, 191, 191, 186, 188, 186,\n",
       "       183, 183, 181, 194, 180, 192, 179, 178, 183, 179, 183, 180, 192,\n",
       "       178, 174, 177, 180, 175, 178, 186, 179, 191, 185, 181, 185, 184,\n",
       "       172, 187, 187, 180, 179, 187, 188, 183, 180, 173, 178, 193, 177,\n",
       "       180, 190, 185, 184, 182, 181, 191, 183, 184, 185, 172, 188, 180,\n",
       "       172, 183, 190, 180, 183, 183, 178, 189, 180, 179, 187, 181, 184,\n",
       "       187, 171, 181, 193, 180, 184, 189, 181, 191, 182, 188, 190, 190,\n",
       "       178, 175, 188, 182, 190, 189, 183, 185, 180, 190, 183, 173, 183,\n",
       "       180, 184, 180, 190, 194, 188, 179, 178, 185, 181, 180, 171, 186,\n",
       "       184, 192, 184, 188, 180, 185, 188, 180, 181, 185, 180, 189, 182,\n",
       "       187, 184, 184, 188, 178, 180, 188, 177, 183, 192, 183, 185, 195,\n",
       "       184, 188, 185, 182, 187, 180, 186, 180, 184, 193, 182, 178, 184,\n",
       "       175, 178, 183, 189, 188, 189, 177, 182, 189, 187, 195, 192, 184,\n",
       "       185, 185, 184, 187, 180, 181, 182, 183, 184, 188, 182, 182, 178,\n",
       "       184, 188, 189, 185, 175, 184, 177, 182, 182, 173, 180, 182, 188,\n",
       "       180, 183, 188, 191, 188, 184, 190, 182, 186, 177, 186, 188, 185,\n",
       "       186, 174, 182, 174, 188, 185, 177, 185, 185, 182, 183, 183, 180,\n",
       "       192, 186, 188, 182, 182, 185, 180, 184, 176, 188, 197, 184, 191,\n",
       "       179, 180, 183, 184, 185, 191, 182, 186, 180, 183, 189, 200, 185,\n",
       "       185, 180, 200, 176])"
      ]
     },
     "execution_count": 20,
     "metadata": {},
     "output_type": "execute_result"
    }
   ],
   "source": [
    "y_all = np.concatenate([y1, y2, y3])\n",
    "y_all"
   ]
  },
  {
   "cell_type": "markdown",
   "id": "857cec6b",
   "metadata": {
    "id": "FDrC2EgCYo8R"
   },
   "source": [
    "Найдем среднее значение роста по всем трем странам:"
   ]
  },
  {
   "cell_type": "code",
   "execution_count": 21,
   "id": "da7a31ac",
   "metadata": {
    "colab": {
     "base_uri": "https://localhost:8080/"
    },
    "id": "LrmBsYWlYo8U",
    "outputId": "223661f7-7ce3-4eb9-90c3-61d9f0aec465"
   },
   "outputs": [
    {
     "name": "stdout",
     "output_type": "stream",
     "text": [
      "183.9353348729792\n"
     ]
    }
   ],
   "source": [
    "y_mean = np.mean(y_all)\n",
    "print(y_mean)"
   ]
  },
  {
   "cell_type": "markdown",
   "id": "ed29eb1c",
   "metadata": {
    "id": "WIgxrxamYo8e"
   },
   "source": [
    "Найдем $S^2$ — сумму квадратов отклонений наблюдений от общего среднего:"
   ]
  },
  {
   "cell_type": "markdown",
   "id": "3c9400d5",
   "metadata": {
    "id": "8d2MieJWYo5u"
   },
   "source": [
    "$$S^2 = \\sum\\limits_{i=1}^{k}\\sum\\limits_{j=1}^{n_i}({y}_{ij} - \\overline{Y})^2$$"
   ]
  },
  {
   "cell_type": "code",
   "execution_count": 22,
   "id": "f62b80e5",
   "metadata": {
    "colab": {
     "base_uri": "https://localhost:8080/"
    },
    "id": "g49G26gmYo8h",
    "outputId": "a7a4e288-318c-442d-b55e-9d06636879b0"
   },
   "outputs": [
    {
     "data": {
      "text/plain": [
       "11332.189376443417"
      ]
     },
     "execution_count": 22,
     "metadata": {},
     "output_type": "execute_result"
    }
   ],
   "source": [
    "s2 = np.sum((y_all - y_mean)**2)\n",
    "s2"
   ]
  },
  {
   "cell_type": "markdown",
   "id": "d3a7120a",
   "metadata": {
    "id": "4pbrI3QEYo8t"
   },
   "source": [
    "Найдем $S^2_F$ - сумму квадратов отклонений средних групповых значений от общего среднего:"
   ]
  },
  {
   "cell_type": "markdown",
   "id": "80f79e9c",
   "metadata": {
    "id": "98w7-LmyYo5z"
   },
   "source": [
    "$$S_F^2 = \\sum\\limits_{i=1}^{k}(\\overline{y}_i - \\overline{Y})^2n_i$$"
   ]
  },
  {
   "cell_type": "code",
   "execution_count": 23,
   "id": "f84ed8c5",
   "metadata": {
    "colab": {
     "base_uri": "https://localhost:8080/"
    },
    "id": "K0nyMwvGYo8w",
    "outputId": "a1a4d4f1-8d03-45e9-b5e0-7a3988f4f4bc"
   },
   "outputs": [
    {
     "data": {
      "text/plain": [
       "186.28984349590775"
      ]
     },
     "execution_count": 23,
     "metadata": {},
     "output_type": "execute_result"
    }
   ],
   "source": [
    "s2_f = ((y1_mean - y_mean)**2) * n1 + ((y2_mean - y_mean)**2) * n2 + ((y3_mean - y_mean)**2) * n3\n",
    "s2_f"
   ]
  },
  {
   "cell_type": "markdown",
   "id": "1cfd8d4a",
   "metadata": {
    "id": "6Y3bn04xYo87"
   },
   "source": [
    "Найдем $S^2_{ост}$ — остаточную сумму квадратов отклонений:"
   ]
  },
  {
   "cell_type": "markdown",
   "id": "bb076b9d",
   "metadata": {
    "id": "YYLdNXsIyIYn"
   },
   "source": [
    "$$S_{ост}^{2} = \\sum\\limits_{i=1}^{k}\\sum\\limits_{j=1}^{n_i}(y_{ij} - \\overline{y}_i)^2$$"
   ]
  },
  {
   "cell_type": "code",
   "execution_count": 24,
   "id": "1eff0eb1",
   "metadata": {
    "id": "D2v8Kk15yJdz"
   },
   "outputs": [
    {
     "data": {
      "text/plain": [
       "11145.899532947507"
      ]
     },
     "execution_count": 24,
     "metadata": {},
     "output_type": "execute_result"
    }
   ],
   "source": [
    "s2_residual = np.sum((y1 - y1_mean)**2) + np.sum((y2 - y2_mean)**2) + np.sum((y3 - y3_mean)**2)\n",
    "s2_residual"
   ]
  },
  {
   "cell_type": "markdown",
   "id": "a577cf26",
   "metadata": {
    "id": "r_o1uLOYYo9F"
   },
   "source": [
    "Удостоверимся, что соблюдается равенство $S^2 = S_F^2 + S_{ост}^2$:"
   ]
  },
  {
   "cell_type": "code",
   "execution_count": 25,
   "id": "9f42eb63",
   "metadata": {
    "colab": {
     "base_uri": "https://localhost:8080/",
     "height": 191
    },
    "id": "s4om9JoYYo9H",
    "outputId": "8fbf5c92-6806-4d75-a171-e3bd96674016",
    "scrolled": true
   },
   "outputs": [
    {
     "name": "stdout",
     "output_type": "stream",
     "text": [
      "11332.189376443417\n",
      "11332.189376443415\n"
     ]
    }
   ],
   "source": [
    "print(s2)\n",
    "print(s2_f + s2_residual)"
   ]
  },
  {
   "cell_type": "markdown",
   "id": "b69576e0",
   "metadata": {
    "id": "0CSn3JPbYo9N"
   },
   "source": [
    "Найдем общую дисперсию:"
   ]
  },
  {
   "cell_type": "markdown",
   "id": "60f57d2b",
   "metadata": {
    "id": "0cusjHApYo6D"
   },
   "source": [
    "$$\\sigma_{общ}^{2} = \\frac{S^2}{n - 1} = \\frac{1}{n-1}\\sum\\limits_{i=1}^{k}\\sum\\limits_{j=1}^{n_i}(y_{ij} - \\overline{Y})^2$$"
   ]
  },
  {
   "cell_type": "code",
   "execution_count": 26,
   "id": "ee181664",
   "metadata": {
    "colab": {
     "base_uri": "https://localhost:8080/"
    },
    "id": "poku5it4Yo9O",
    "outputId": "9f02a8ce-4658-4d3e-b097-4b5da967120e"
   },
   "outputs": [
    {
     "data": {
      "text/plain": [
       "26.23191985287828"
      ]
     },
     "execution_count": 26,
     "metadata": {},
     "output_type": "execute_result"
    }
   ],
   "source": [
    "sigma2_general = s2 / (n - 1)\n",
    "sigma2_general"
   ]
  },
  {
   "cell_type": "markdown",
   "id": "f6a1582e",
   "metadata": {
    "id": "GpuU4kg0Yo9W"
   },
   "source": [
    "Найдем факторную дисперсию:"
   ]
  },
  {
   "cell_type": "markdown",
   "id": "e9de0472",
   "metadata": {
    "id": "AJguqUuTYo6J"
   },
   "source": [
    "$$\\sigma_{F}^{2} = \\frac{S_{F}^{2}}{k-1} = \\frac{1}{k-1}\\sum\\limits_{i=1}^{k}(\\overline{y}_i - \\overline{Y})^{2}n_i$$"
   ]
  },
  {
   "cell_type": "code",
   "execution_count": 27,
   "id": "eb50848e",
   "metadata": {
    "colab": {
     "base_uri": "https://localhost:8080/"
    },
    "id": "LDEml9L-Yo9Z",
    "outputId": "8693d32e-5cea-40de-b41f-760ee87f44ad"
   },
   "outputs": [
    {
     "data": {
      "text/plain": [
       "93.14492174795387"
      ]
     },
     "execution_count": 27,
     "metadata": {},
     "output_type": "execute_result"
    }
   ],
   "source": [
    "sigma2_f = s2_f / (k - 1)\n",
    "sigma2_f"
   ]
  },
  {
   "cell_type": "markdown",
   "id": "4aba9fc7",
   "metadata": {
    "id": "G5vpR7jyYo9j"
   },
   "source": [
    "Найдем остаточную дисперсию:"
   ]
  },
  {
   "cell_type": "markdown",
   "id": "3eb78803",
   "metadata": {
    "id": "rjxquHv3Yo6O"
   },
   "source": [
    "$$\\sigma_{ост}^{2} = \\frac{S_{ост}^{2}}{n - k} = \\frac{1}{n - k}\\sum\\limits_{i=1}^{k}\\sum\\limits_{j=1}^{n_i}(y_{ij} - \\overline{y}_i)^2$$"
   ]
  },
  {
   "cell_type": "code",
   "execution_count": 28,
   "id": "dd326baa",
   "metadata": {
    "colab": {
     "base_uri": "https://localhost:8080/",
     "height": 175
    },
    "id": "KeWVYYHfYo9r",
    "outputId": "6d4fb00b-2af1-4fe4-9f9d-b87f96fd9798"
   },
   "outputs": [
    {
     "data": {
      "text/plain": [
       "25.920696588250017"
      ]
     },
     "execution_count": 28,
     "metadata": {},
     "output_type": "execute_result"
    }
   ],
   "source": [
    "sigma2_residual = s2_residual / (n - k)\n",
    "sigma2_residual"
   ]
  },
  {
   "cell_type": "markdown",
   "id": "7927f857",
   "metadata": {
    "id": "jr_Tpl8OYo6R"
   },
   "source": [
    "\n",
    "\n",
    "В дисперсионном анализе проверяется гипотеза $H_0$ о равенстве средних групповых значений количественного показателя:"
   ]
  },
  {
   "cell_type": "markdown",
   "id": "7fbc869f",
   "metadata": {
    "id": "_PH1EnAoYo6U"
   },
   "source": [
    "$$(H_0: \\overline{y}_1 = \\overline{y}_2 = ... = \\overline{y}_k).$$"
   ]
  },
  {
   "cell_type": "markdown",
   "id": "4ba49c3c",
   "metadata": {
    "id": "VJMVJVQCYo6W"
   },
   "source": [
    "Чтобы проверить эту гипотезу, необходимо воспользоваться соотношением:"
   ]
  },
  {
   "cell_type": "markdown",
   "id": "f9acf76b",
   "metadata": {
    "id": "yyHcH5WtYo6Y"
   },
   "source": [
    "$$F_H = \\frac{\\sigma_{F}^{2}}{\\sigma_{ост}^{2}}$$"
   ]
  },
  {
   "cell_type": "markdown",
   "id": "4db156e5",
   "metadata": {
    "id": "uQirLWssYo9x"
   },
   "source": [
    "Вычислим $F_H$:"
   ]
  },
  {
   "cell_type": "code",
   "execution_count": 29,
   "id": "083b3c32",
   "metadata": {
    "colab": {
     "base_uri": "https://localhost:8080/",
     "height": 175
    },
    "id": "W9QELM6VYo91",
    "outputId": "bc4c3361-2da9-4a0d-cc98-b160caed7861"
   },
   "outputs": [
    {
     "data": {
      "text/plain": [
       "3.59345750724064"
      ]
     },
     "execution_count": 29,
     "metadata": {},
     "output_type": "execute_result"
    }
   ],
   "source": [
    "F_h = sigma2_f / sigma2_residual\n",
    "F_h"
   ]
  },
  {
   "cell_type": "markdown",
   "id": "fc9f4ad9",
   "metadata": {
    "id": "7pw0jHLlYo9-"
   },
   "source": [
    "Найдем значение $F_{крит}$ в таблице критических точек распределения Фишера-Снедекора для заданного уровня значимости $\\alpha = 0.01$ и двух степеней свободы:\n",
    "\n",
    "$df_{межд} = k - 1 = 3 - 1 = 2$ и $df_{внутр} = n - k = 433 - 3 = 430$."
   ]
  },
  {
   "cell_type": "markdown",
   "id": "915c45f3",
   "metadata": {
    "id": "WPLuwwbyYo9_"
   },
   "source": [
    "Для данных значений $F_{крит} = 4.60$. \n",
    "\n",
    "Так как $F_H < F_{крит}$, различие средних роста в трех группах  не имеют статистически достоверного отличия."
   ]
  },
  {
   "cell_type": "markdown",
   "id": "7ab69f4d",
   "metadata": {
    "id": "gIRQ9JRKYo-B"
   },
   "source": [
    "Также вычислим эмпирическое корреляционное отношение $\\eta^2$:"
   ]
  },
  {
   "cell_type": "code",
   "execution_count": 31,
   "id": "85fddb5c",
   "metadata": {
    "colab": {
     "base_uri": "https://localhost:8080/"
    },
    "id": "jb2skTGMYo-D",
    "outputId": "5c6bf587-f847-4c47-be89-3c33656b610f"
   },
   "outputs": [
    {
     "data": {
      "text/plain": [
       "0.01643899844130335"
      ]
     },
     "execution_count": 31,
     "metadata": {},
     "output_type": "execute_result"
    }
   ],
   "source": [
    "eta2 = s2_f / s2\n",
    "eta2"
   ]
  },
  {
   "cell_type": "markdown",
   "id": "9577ee70",
   "metadata": {},
   "source": [
    "Принято считать, что при значениях $\\eta^2$ ниже 0.2-0.3 групповые значения средних не имеют статистически достоверного отличия."
   ]
  },
  {
   "cell_type": "markdown",
   "id": "c777e304",
   "metadata": {},
   "source": [
    "# Ответ: 0"
   ]
  }
 ],
 "metadata": {
  "kernelspec": {
   "display_name": "Python 3 (ipykernel)",
   "language": "python",
   "name": "python3"
  },
  "language_info": {
   "codemirror_mode": {
    "name": "ipython",
    "version": 3
   },
   "file_extension": ".py",
   "mimetype": "text/x-python",
   "name": "python",
   "nbconvert_exporter": "python",
   "pygments_lexer": "ipython3",
   "version": "3.11.3"
  }
 },
 "nbformat": 4,
 "nbformat_minor": 5
}
